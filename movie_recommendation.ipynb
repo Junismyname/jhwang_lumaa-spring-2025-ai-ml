{
 "cells": [
  {
   "cell_type": "code",
   "execution_count": 1,
   "id": "2be01110-7dd5-4528-ab01-3a8a503f25c5",
   "metadata": {},
   "outputs": [
    {
     "name": "stderr",
     "output_type": "stream",
     "text": [
      "[nltk_data] Downloading package stopwords to\n",
      "[nltk_data]     C:\\Users\\lucas\\AppData\\Roaming\\nltk_data...\n",
      "[nltk_data]   Package stopwords is already up-to-date!\n",
      "[nltk_data] Downloading package wordnet to\n",
      "[nltk_data]     C:\\Users\\lucas\\AppData\\Roaming\\nltk_data...\n",
      "[nltk_data]   Package wordnet is already up-to-date!\n"
     ]
    },
    {
     "data": {
      "text/plain": [
       "True"
      ]
     },
     "execution_count": 1,
     "metadata": {},
     "output_type": "execute_result"
    }
   ],
   "source": [
    "import pandas as pd\n",
    "import numpy as np\n",
    "from sklearn.feature_extraction.text import TfidfVectorizer\n",
    "from sklearn.metrics.pairwise import cosine_similarity\n",
    "from nltk.corpus import stopwords\n",
    "from nltk.stem import WordNetLemmatizer\n",
    "import re\n",
    "import ast\n",
    "\n",
    "import nltk\n",
    "nltk.download('stopwords')\n",
    "nltk.download('wordnet')"
   ]
  },
  {
   "cell_type": "code",
   "execution_count": 2,
   "id": "68bed71b-64e2-462c-a866-9cc52cd4b8bd",
   "metadata": {},
   "outputs": [
    {
     "name": "stdout",
     "output_type": "stream",
     "text": [
      "genres             0\n",
      "keywords           0\n",
      "overview           0\n",
      "original_title     0\n",
      "tagline           13\n",
      "title              0\n",
      "cast               0\n",
      "dtype: int64\n"
     ]
    }
   ],
   "source": [
    "# import data with necessary columns\n",
    "movies = pd.read_csv(\"data/tmdb_500_movies.csv\")\n",
    "credits = pd.read_csv(\"data/tmdb_500_credits.csv\")[['movie_id', 'cast', 'crew']]\n",
    "movies_credits = movies.merge(credits, left_on='id', right_on='movie_id', how='inner')[['genres', 'keywords','overview', 'original_title', 'tagline', 'title', 'cast']]\n",
    "\n",
    "# make sure all the columns have consistent data type\n",
    "cols_to_clean = ['genres', 'keywords', 'cast']\n",
    "convert = lambda x: \", \".join([dct[\"name\"] for dct in ast.literal_eval(x) if 'name' in dct.keys()])\n",
    "for col in cols_to_clean:\n",
    "    movies_credits[col] = movies_credits[col].apply(convert)\n",
    "\n",
    "#check for nan values\n",
    "print(movies_credits.isna().sum())\n",
    "\n",
    "#fill nan values\n",
    "movies_credits.fillna('', inplace=True)"
   ]
  },
  {
   "cell_type": "code",
   "execution_count": 3,
   "id": "877bc601-13fa-432d-83ff-fc9f17421469",
   "metadata": {},
   "outputs": [],
   "source": [
    "#combine columns for richer context\n",
    "def enrichment(df):\n",
    "    summary = df.apply(lambda x: \", \".join(x).lower(), axis=1)\n",
    "    lemmatizer = WordNetLemmatizer()\n",
    "    stop_words = set(stopwords.words('english'))\n",
    "    return summary.apply(lambda x: \" \".join([lemmatizer.lemmatize(word) for word in re.sub(r'[^\\w\\s]', '', x).split() if word not in stop_words]))\n",
    "\n",
    "#vectorize the summary\n",
    "def vectorize(context):\n",
    "    vectorizer = TfidfVectorizer(stop_words='english')\n",
    "    tfidf_matrix = vectorizer.fit_transform(context)\n",
    "    return vectorizer, tfidf_matrix\n",
    "\n",
    "#compute similarity\n",
    "def compute_similarity(query, vectorizer, tfidf_matrix):\n",
    "    to_remove = ['i', 'want', 'like', 'movie', 'movies', 'love']\n",
    "    query = query.lower()\n",
    "    for x in to_remove:\n",
    "        query = ' '.join([x for x in query.split() if x not in to_remove])\n",
    "    lemmatizer = WordNetLemmatizer()\n",
    "    stop_words = set(stopwords.words('english'))\n",
    "    query_vec = vectorizer.transform([\" \".join([lemmatizer.lemmatize(word) for word in re.sub(r'[^\\w\\s]', '', query).split() if word not in stop_words])])\n",
    "    return cosine_similarity(query_vec, tfidf_matrix).flatten()\n",
    "\n",
    "#recommend top 5 movies\n",
    "def recommend_movies(df): \n",
    "    summary = enrichment(df)\n",
    "    query = input(\"What kind of movie would you like to watch?: \")\n",
    "    vectorizer, tfidf_matrix = vectorize(summary)\n",
    "    similarity = compute_similarity(query, vectorizer, tfidf_matrix)\n",
    "    top_indices = similarity.argsort()[-3:][::-1]\n",
    "    \n",
    "    recommendations = []\n",
    "    for idx in top_indices:\n",
    "        recommendations.append({\n",
    "            'title': df.iloc[idx]['title'],\n",
    "            'similarity': similarity[idx]\n",
    "        })\n",
    "\n",
    "    return recommendations"
   ]
  },
  {
   "cell_type": "code",
   "execution_count": 5,
   "id": "0fefc214-7889-4107-87f2-dda7b03348c8",
   "metadata": {},
   "outputs": [
    {
     "name": "stdin",
     "output_type": "stream",
     "text": [
      "What kind of movie would you like to watch?:  I want family movies\n"
     ]
    },
    {
     "data": {
      "text/plain": [
       "[{'title': 'The Croods', 'similarity': 0.1782824968450518},\n",
       " {'title': 'Stuart Little', 'similarity': 0.16943315929344252},\n",
       " {'title': 'Stuart Little 2', 'similarity': 0.1333837325892032}]"
      ]
     },
     "execution_count": 5,
     "metadata": {},
     "output_type": "execute_result"
    }
   ],
   "source": [
    "# give movie recommendation\n",
    "recommend_movies(movies_credits)"
   ]
  },
  {
   "cell_type": "code",
   "execution_count": null,
   "id": "4bcb243a-9728-4c46-a3aa-21dc94c933b9",
   "metadata": {},
   "outputs": [],
   "source": []
  }
 ],
 "metadata": {
  "kernelspec": {
   "display_name": "Python 3 (ipykernel)",
   "language": "python",
   "name": "python3"
  },
  "language_info": {
   "codemirror_mode": {
    "name": "ipython",
    "version": 3
   },
   "file_extension": ".py",
   "mimetype": "text/x-python",
   "name": "python",
   "nbconvert_exporter": "python",
   "pygments_lexer": "ipython3",
   "version": "3.11.7"
  }
 },
 "nbformat": 4,
 "nbformat_minor": 5
}
